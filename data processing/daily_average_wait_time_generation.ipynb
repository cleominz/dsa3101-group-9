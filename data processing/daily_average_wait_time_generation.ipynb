{
 "cells": [
  {
   "cell_type": "markdown",
   "id": "7b7fb5b0-e074-4c16-ab0e-cdc03df242c4",
   "metadata": {},
   "source": [
    "### Filtering the data according to the official USS operating hours:\n",
    "\n",
    "**1. Time Ranges:**\n",
    "   - Defined for regular, short (10 AM - 5 PM), long (10 AM - 8 PM), and extended (10 AM - 9 PM) hours.\n",
    "\n",
    "**2. Month-Specific Conditions:**\n",
    "   - A function `get_time_range_for_month()` is used to return the correct time range based on the month:\n",
    "     - **October:** 10 AM - 5 PM\n",
    "     - **November 1-3:** 10 AM - 5 PM\n",
    "     - **December 1-15:** 10 AM - 8 PM\n",
    "     - **December 16-31:** 10 AM - 9 PM\n",
    "     - **Other months:** Use regular hours, 10 AM - 7 PM."
   ]
  },
  {
   "cell_type": "code",
   "execution_count": 1,
   "id": "02c6d592-925d-4491-8eab-02720b7872dd",
   "metadata": {},
   "outputs": [],
   "source": [
    "import pandas as pd\n",
    "\n",
    "file_path = '/Users/liyuan/DSA3101/Analysis/combined_wait_time_df.csv'  \n",
    "wait_time_df = pd.read_csv(file_path)"
   ]
  },
  {
   "cell_type": "code",
   "execution_count": 2,
   "id": "a72bcdd2-c249-4cce-a733-9ddb52f7fb5c",
   "metadata": {},
   "outputs": [
    {
     "data": {
      "text/html": [
       "<div>\n",
       "<style scoped>\n",
       "    .dataframe tbody tr th:only-of-type {\n",
       "        vertical-align: middle;\n",
       "    }\n",
       "\n",
       "    .dataframe tbody tr th {\n",
       "        vertical-align: top;\n",
       "    }\n",
       "\n",
       "    .dataframe thead th {\n",
       "        text-align: right;\n",
       "    }\n",
       "</style>\n",
       "<table border=\"1\" class=\"dataframe\">\n",
       "  <thead>\n",
       "    <tr style=\"text-align: right;\">\n",
       "      <th></th>\n",
       "      <th>datetime</th>\n",
       "      <th>year</th>\n",
       "      <th>month</th>\n",
       "      <th>day_of_week</th>\n",
       "      <th>date</th>\n",
       "      <th>time</th>\n",
       "      <th>hour</th>\n",
       "      <th>wait_time</th>\n",
       "    </tr>\n",
       "  </thead>\n",
       "  <tbody>\n",
       "    <tr>\n",
       "      <th>0</th>\n",
       "      <td>2019-01-01 08:00:00+00:00</td>\n",
       "      <td>2019</td>\n",
       "      <td>1</td>\n",
       "      <td>1</td>\n",
       "      <td>2019-01-01</td>\n",
       "      <td>08:00:00</td>\n",
       "      <td>8</td>\n",
       "      <td>13.154467</td>\n",
       "    </tr>\n",
       "    <tr>\n",
       "      <th>1</th>\n",
       "      <td>2019-01-01 08:05:00+00:00</td>\n",
       "      <td>2019</td>\n",
       "      <td>1</td>\n",
       "      <td>1</td>\n",
       "      <td>2019-01-01</td>\n",
       "      <td>08:05:00</td>\n",
       "      <td>8</td>\n",
       "      <td>13.013864</td>\n",
       "    </tr>\n",
       "    <tr>\n",
       "      <th>2</th>\n",
       "      <td>2019-01-01 08:10:00+00:00</td>\n",
       "      <td>2019</td>\n",
       "      <td>1</td>\n",
       "      <td>1</td>\n",
       "      <td>2019-01-01</td>\n",
       "      <td>08:10:00</td>\n",
       "      <td>8</td>\n",
       "      <td>13.862746</td>\n",
       "    </tr>\n",
       "    <tr>\n",
       "      <th>3</th>\n",
       "      <td>2019-01-01 08:15:00+00:00</td>\n",
       "      <td>2019</td>\n",
       "      <td>1</td>\n",
       "      <td>1</td>\n",
       "      <td>2019-01-01</td>\n",
       "      <td>08:15:00</td>\n",
       "      <td>8</td>\n",
       "      <td>12.383340</td>\n",
       "    </tr>\n",
       "    <tr>\n",
       "      <th>4</th>\n",
       "      <td>2019-01-01 08:20:00+00:00</td>\n",
       "      <td>2019</td>\n",
       "      <td>1</td>\n",
       "      <td>1</td>\n",
       "      <td>2019-01-01</td>\n",
       "      <td>08:20:00</td>\n",
       "      <td>8</td>\n",
       "      <td>12.374923</td>\n",
       "    </tr>\n",
       "  </tbody>\n",
       "</table>\n",
       "</div>"
      ],
      "text/plain": [
       "                    datetime  year  month  day_of_week        date      time  \\\n",
       "0  2019-01-01 08:00:00+00:00  2019      1            1  2019-01-01  08:00:00   \n",
       "1  2019-01-01 08:05:00+00:00  2019      1            1  2019-01-01  08:05:00   \n",
       "2  2019-01-01 08:10:00+00:00  2019      1            1  2019-01-01  08:10:00   \n",
       "3  2019-01-01 08:15:00+00:00  2019      1            1  2019-01-01  08:15:00   \n",
       "4  2019-01-01 08:20:00+00:00  2019      1            1  2019-01-01  08:20:00   \n",
       "\n",
       "   hour  wait_time  \n",
       "0     8  13.154467  \n",
       "1     8  13.013864  \n",
       "2     8  13.862746  \n",
       "3     8  12.383340  \n",
       "4     8  12.374923  "
      ]
     },
     "execution_count": 2,
     "metadata": {},
     "output_type": "execute_result"
    }
   ],
   "source": [
    "wait_time_df.head()"
   ]
  },
  {
   "cell_type": "code",
   "execution_count": 3,
   "id": "6cd34363-e3b2-4f0c-ada9-dbc6ec75437f",
   "metadata": {},
   "outputs": [],
   "source": [
    "# Adjust the datetime parsing by specifying the format for 'datetime' and 'time'\n",
    "wait_time_df['datetime'] = pd.to_datetime(wait_time_df['datetime'], format='%Y-%m-%d %H:%M:%S%z')\n",
    "wait_time_df['time'] = pd.to_datetime(wait_time_df['time'], format='%H:%M:%S').dt.time"
   ]
  },
  {
   "cell_type": "code",
   "execution_count": 4,
   "id": "eb998833-70f2-4693-a278-2c826dd7df67",
   "metadata": {},
   "outputs": [],
   "source": [
    "# Define the time ranges for each type of day\n",
    "time_ranges = {\n",
    "    \"regular\": (pd.to_datetime('10:00:00').time(), pd.to_datetime('19:00:00').time()),\n",
    "    \"short\": (pd.to_datetime('10:00:00').time(), pd.to_datetime('17:00:00').time()),\n",
    "    \"long\": (pd.to_datetime('10:00:00').time(), pd.to_datetime('20:00:00').time()),\n",
    "    \"extended\": (pd.to_datetime('10:00:00').time(), pd.to_datetime('21:00:00').time())\n",
    "}\n",
    "\n",
    "# Define the month-specific operating hours:\n",
    "def get_time_range_for_month(month, day):\n",
    "    if month == 12:\n",
    "        # Special hours in December\n",
    "        return time_ranges['long'] if 1 <= day <= 15 else time_ranges['extended']\n",
    "    elif month == 10 or (month == 11 and day <= 3):\n",
    "        # October 1 to October 31: 10 AM - 5 PM\n",
    "        # November 1 - 3: 10 AM - 5 PM\n",
    "        return time_ranges['short']\n",
    "    else:\n",
    "        # Regular days: 10 AM - 7 PM\n",
    "        return time_ranges['regular']"
   ]
  },
  {
   "cell_type": "code",
   "execution_count": 5,
   "id": "f53ba6dc-fe0c-48c0-ba2e-f875a3453632",
   "metadata": {},
   "outputs": [],
   "source": [
    "# Filter the dataframe based on both time, month, and day\n",
    "filtered_df = wait_time_df[\n",
    "    wait_time_df.apply(\n",
    "        lambda row: get_time_range_for_month(row['month'], row['day_of_week'])[0] <= row['time'] <= get_time_range_for_month(row['month'], row['day_of_week'])[1],\n",
    "        axis=1\n",
    "    )\n",
    "]"
   ]
  },
  {
   "cell_type": "code",
   "execution_count": 9,
   "id": "4dc739a5-0604-48b6-8426-2c33e106c3ce",
   "metadata": {},
   "outputs": [],
   "source": [
    "# Save as csv file\n",
    "# filtered_df.to_csv('filtered_combined_wait_time_df.csv', index=False)"
   ]
  },
  {
   "cell_type": "markdown",
   "id": "c04655ce-8b14-46db-96ee-932f19453bda",
   "metadata": {},
   "source": [
    "### Create a new dataframe for average wait time for each day"
   ]
  },
  {
   "cell_type": "code",
   "execution_count": 7,
   "id": "80ae546e-52d8-4c7f-a7bd-3ba965d58b62",
   "metadata": {},
   "outputs": [
    {
     "name": "stdout",
     "output_type": "stream",
     "text": [
      "<class 'pandas.core.frame.DataFrame'>\n",
      "RangeIndex: 2028 entries, 0 to 2027\n",
      "Data columns (total 2 columns):\n",
      " #   Column             Non-Null Count  Dtype  \n",
      "---  ------             --------------  -----  \n",
      " 0   date               2028 non-null   object \n",
      " 1   avg_wait_time_day  2028 non-null   float64\n",
      "dtypes: float64(1), object(1)\n",
      "memory usage: 31.8+ KB\n"
     ]
    }
   ],
   "source": [
    "# Create a new dataframe with just 'date' and the calculated average wait time for each day\n",
    "daily_avg_wait_time_df = filtered_df.groupby('date')['wait_time'].mean().reset_index()\n",
    "\n",
    "# Rename the column to 'avg_wait_time_day' \n",
    "daily_avg_wait_time_df.rename(columns={'wait_time': 'avg_wait_time_day'}, inplace=True)\n",
    "\n",
    "# Round the 'avg_wait_time_day' to the nearest whole number\n",
    "daily_avg_wait_time_df['avg_wait_time_day'] = daily_avg_wait_time_df['avg_wait_time_day'].round()\n",
    "\n",
    "daily_avg_wait_time_df.info()"
   ]
  },
  {
   "cell_type": "code",
   "execution_count": 8,
   "id": "5086a1c1-ca30-492a-9a8d-9b4b68bffb90",
   "metadata": {},
   "outputs": [
    {
     "name": "stdout",
     "output_type": "stream",
     "text": [
      "First Date: 2019-01-01\n",
      "Last Date: 2024-10-21\n"
     ]
    }
   ],
   "source": [
    "first_date = daily_avg_wait_time_df['date'].min()\n",
    "last_date = daily_avg_wait_time_df['date'].max()\n",
    "\n",
    "print(\"First Date:\", first_date)\n",
    "print(\"Last Date:\", last_date)"
   ]
  },
  {
   "cell_type": "code",
   "execution_count": 13,
   "id": "30f3bbd6-8014-4661-a0dd-bc86dec3f8f7",
   "metadata": {},
   "outputs": [
    {
     "data": {
      "image/png": "[encoded data removed]",
      "text/plain": [
       "<Figure size 1000x600 with 1 Axes>"
      ]
     },
     "metadata": {},
     "output_type": "display_data"
    }
   ],
   "source": [
    "import matplotlib.pyplot as plt\n",
    "import seaborn as sns\n",
    "\n",
    "# Set the style for seaborn plots\n",
    "sns.set(style=\"whitegrid\")\n",
    "\n",
    "# Histogram to visualize the distribution of daily average wait time\n",
    "plt.figure(figsize=(10, 6))\n",
    "sns.histplot(daily_avg_wait_time_df['avg_wait_time_day'], bins=20, kde=True, color='blue')\n",
    "plt.title('Distribution of Daily Average Wait Time', fontsize=16)\n",
    "plt.xlabel('Average Wait Time (minutes)', fontsize=12)\n",
    "plt.ylabel('Frequency', fontsize=12)\n",
    "plt.show()"
   ]
  },
  {
   "cell_type": "code",
   "execution_count": 11,
   "id": "e84b0509-ef70-433e-9450-5b8d8cc2de88",
   "metadata": {},
   "outputs": [
    {
     "name": "stdout",
     "output_type": "stream",
     "text": [
      "avg_wait_time_day\n",
      "7.0       2\n",
      "8.0       1\n",
      "10.0      6\n",
      "11.0      2\n",
      "12.0     12\n",
      "13.0     16\n",
      "14.0     20\n",
      "15.0     37\n",
      "16.0     56\n",
      "17.0    100\n",
      "18.0     80\n",
      "19.0     58\n",
      "20.0     86\n",
      "21.0    135\n",
      "22.0    134\n",
      "23.0    142\n",
      "24.0    122\n",
      "25.0     80\n",
      "26.0     53\n",
      "27.0     29\n",
      "28.0     61\n",
      "29.0     92\n",
      "30.0    116\n",
      "31.0    114\n",
      "32.0     99\n",
      "33.0     59\n",
      "34.0     36\n",
      "35.0     21\n",
      "36.0     18\n",
      "37.0     14\n",
      "38.0      4\n",
      "39.0     18\n",
      "40.0     17\n",
      "41.0     23\n",
      "42.0     35\n",
      "43.0     32\n",
      "44.0     29\n",
      "45.0     26\n",
      "46.0     26\n",
      "47.0      7\n",
      "48.0      4\n",
      "49.0      3\n",
      "51.0      2\n",
      "53.0      1\n",
      "Name: count, dtype: int64\n"
     ]
    }
   ],
   "source": [
    "# Count the unique wait time values\n",
    "unique_wait_times = daily_avg_wait_time_df['avg_wait_time_day'].value_counts().sort_index()\n",
    "\n",
    "print(unique_wait_times)"
   ]
  },
  {
   "cell_type": "markdown",
   "id": "a168726d-8719-44fd-83a4-9d3716bc27fd",
   "metadata": {},
   "source": [
    "### Classifying Wait Time Ratings Based on Average Wait Time per Day\n",
    "\n",
    "#### 1. **Objective**:\n",
    "   The goal is to classify the average wait times for attractions into ratings from **1 to 5**, where:\n",
    "   - **Rating 1** should represent the longest wait times, indicating a poor experience.\n",
    "   - **Rating 5** should represent the shortest wait times, indicating a great experience.\n",
    "\n",
    "#### 2. **Classification Approach**:\n",
    "   The average wait times (in minutes) for each day range from **7 minutes** to **53 minutes**. Based on this, the wait times are divided into the following specific ranges:\n",
    "\n",
    "\n",
    "| **Wait Time (minutes)** | **Rating**  |\n",
    "|-------------------------|-------------|\n",
    "| 41 - 53                 | 1 (Longest) |\n",
    "| 31 - 40                 | 2           |\n",
    "| 21 - 30                 | 3           |\n",
    "| 11 - 20                 | 4           |\n",
    "| 7 - 10                  | 5 (Shortest)|\n",
    "\n",
    "#### 3. **Rationale**:\n",
    "   - This categorization helps to translate raw wait time data into actionable survey responses regarding visitor satisfaction with the wait times for different attractions. More specifically, to answer the question: **\"How would you rate the wait time for the attractions you visited?\"**"
   ]
  },
  {
   "cell_type": "code",
   "execution_count": 14,
   "id": "5fdd7896-64ae-4cd1-86de-dcf36750808b",
   "metadata": {},
   "outputs": [],
   "source": [
    "# Define the function to classify the wait times\n",
    "def classify_wait_time(wait_time):\n",
    "    if wait_time > 40:\n",
    "        return 1  # Longest wait\n",
    "    elif wait_time > 30:\n",
    "        return 2\n",
    "    elif wait_time > 20:\n",
    "        return 3\n",
    "    elif wait_time > 10:\n",
    "        return 4\n",
    "    else:\n",
    "        return 5  # Shortest wait\n",
    "\n",
    "# Apply the classification to the DataFrame\n",
    "daily_avg_wait_time_df['wait_time_rating'] = daily_avg_wait_time_df['avg_wait_time_day'].apply(classify_wait_time)"
   ]
  },
  {
   "cell_type": "code",
   "execution_count": 18,
   "id": "9dc41ac3-d3f5-46a3-b5a9-4a81a2af9eec",
   "metadata": {},
   "outputs": [
    {
     "data": {
      "text/html": [
       "<div>\n",
       "<style scoped>\n",
       "    .dataframe tbody tr th:only-of-type {\n",
       "        vertical-align: middle;\n",
       "    }\n",
       "\n",
       "    .dataframe tbody tr th {\n",
       "        vertical-align: top;\n",
       "    }\n",
       "\n",
       "    .dataframe thead th {\n",
       "        text-align: right;\n",
       "    }\n",
       "</style>\n",
       "<table border=\"1\" class=\"dataframe\">\n",
       "  <thead>\n",
       "    <tr style=\"text-align: right;\">\n",
       "      <th></th>\n",
       "      <th>date</th>\n",
       "      <th>avg_wait_time_day</th>\n",
       "      <th>wait_time_rating</th>\n",
       "    </tr>\n",
       "  </thead>\n",
       "  <tbody>\n",
       "    <tr>\n",
       "      <th>0</th>\n",
       "      <td>2019-01-01</td>\n",
       "      <td>29.0</td>\n",
       "      <td>3</td>\n",
       "    </tr>\n",
       "    <tr>\n",
       "      <th>1</th>\n",
       "      <td>2019-01-02</td>\n",
       "      <td>20.0</td>\n",
       "      <td>4</td>\n",
       "    </tr>\n",
       "    <tr>\n",
       "      <th>2</th>\n",
       "      <td>2019-01-03</td>\n",
       "      <td>21.0</td>\n",
       "      <td>3</td>\n",
       "    </tr>\n",
       "    <tr>\n",
       "      <th>3</th>\n",
       "      <td>2019-01-04</td>\n",
       "      <td>32.0</td>\n",
       "      <td>2</td>\n",
       "    </tr>\n",
       "    <tr>\n",
       "      <th>4</th>\n",
       "      <td>2019-01-05</td>\n",
       "      <td>31.0</td>\n",
       "      <td>2</td>\n",
       "    </tr>\n",
       "  </tbody>\n",
       "</table>\n",
       "</div>"
      ],
      "text/plain": [
       "         date  avg_wait_time_day  wait_time_rating\n",
       "0  2019-01-01               29.0                 3\n",
       "1  2019-01-02               20.0                 4\n",
       "2  2019-01-03               21.0                 3\n",
       "3  2019-01-04               32.0                 2\n",
       "4  2019-01-05               31.0                 2"
      ]
     },
     "execution_count": 18,
     "metadata": {},
     "output_type": "execute_result"
    }
   ],
   "source": [
    "daily_avg_wait_time_df.head()"
   ]
  },
  {
   "cell_type": "code",
   "execution_count": 19,
   "id": "57c35ec1-b403-4a0e-9e89-6b6fe6792760",
   "metadata": {},
   "outputs": [],
   "source": [
    "# Save as csv file\n",
    "daily_avg_wait_time_df.to_csv('daily_avg_wait_time_df.csv', index=False)"
   ]
  }
 ],
 "metadata": {
  "kernelspec": {
   "display_name": "Python 3 (ipykernel)",
   "language": "python",
   "name": "python3"
  },
  "language_info": {
   "codemirror_mode": {
    "name": "ipython",
    "version": 3
   },
   "file_extension": ".py",
   "mimetype": "text/x-python",
   "name": "python",
   "nbconvert_exporter": "python",
   "pygments_lexer": "ipython3",
   "version": "3.12.5"
  }
 },
 "nbformat": 4,
 "nbformat_minor": 5
}
