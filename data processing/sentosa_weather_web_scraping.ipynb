{
 "cells": [
  {
   "cell_type": "code",
   "execution_count": 5,
   "metadata": {},
   "outputs": [],
   "source": [
    "import requests\n",
    "import pandas as pd\n",
    "import numpy as np\n",
    "import matplotlib.pyplot as plt"
   ]
  },
  {
   "cell_type": "code",
   "execution_count": 4,
   "metadata": {},
   "outputs": [],
   "source": [
    "start_date = \"2023-01-01T12:00:00+08:00\"\n",
    "end_date = \"2024-10-31T12:00:00+08:00\"\n",
    "start_date_pd = pd.to_datetime(start_date)\n",
    "end_date_pd = pd.to_datetime(end_date)\n",
    "\n",
    "date_range = pd.date_range(start=start_date_pd, end=end_date_pd, freq='D')\n",
    "\n",
    "url = \"https://api.data.gov.sg/v1/environment/rainfall\"\n",
    "weather_df = {}\n",
    "precipitation_levels=[]\n",
    "dates = []\n",
    "\n",
    "for current_date in date_range:\n",
    "    hourly_prec = []\n",
    "    for hour in range(10, 20):\n",
    "        string_version = current_date.strftime(f\"%Y-%m-%dT{hour:02d}:00:00+08:00\")\n",
    "        params = {\"date_time\": string_version}\n",
    "\n",
    "        response = requests.get(url, params=params)\n",
    "        curr_data = response.json()\n",
    "    \n",
    "        station_id = ''\n",
    "        # get station id of Sentosa\n",
    "        for location in curr_data['metadata']['stations']:\n",
    "            if location['name']=='Sentosa':\n",
    "                station_id = location['id']\n",
    "                break\n",
    "\n",
    "        # get precipitation level\n",
    "        for location in curr_data['items'][0]['readings']:\n",
    "            if location['station_id']==station_id:\n",
    "                hourly_prec.append(location['value'])\n",
    "                break\n",
    "    \n",
    "    precipitation_levels.append(np.mean(hourly_prec) if hourly_prec else 0)\n",
    "    dates.append(current_date.date())"
   ]
  },
  {
   "cell_type": "code",
   "execution_count": 6,
   "metadata": {},
   "outputs": [
    {
     "name": "stdout",
     "output_type": "stream",
     "text": [
      "<class 'pandas.core.frame.DataFrame'>\n",
      "RangeIndex: 670 entries, 0 to 669\n",
      "Data columns (total 2 columns):\n",
      " #   Column         Non-Null Count  Dtype         \n",
      "---  ------         --------------  -----         \n",
      " 0   date           670 non-null    datetime64[ns]\n",
      " 1   precipitation  670 non-null    float64       \n",
      "dtypes: datetime64[ns](1), float64(1)\n",
      "memory usage: 10.6 KB\n",
      "None\n"
     ]
    }
   ],
   "source": [
    "weather_df = pd.DataFrame({\n",
    "    'date': dates,\n",
    "    'precipitation': precipitation_levels\n",
    "    })\n",
    "weather_df['date'] = pd.to_datetime(weather_df['date'])\n",
    "print(weather_df.info())"
   ]
  },
  {
   "cell_type": "code",
   "execution_count": 7,
   "metadata": {},
   "outputs": [
    {
     "data": {
      "text/plain": [
       "(array([621.,  24.,  11.,   6.,   2.,   2.,   1.,   0.,   1.,   2.]),\n",
       " array([0.   , 0.124, 0.248, 0.372, 0.496, 0.62 , 0.744, 0.868, 0.992,\n",
       "        1.116, 1.24 ]),\n",
       " <BarContainer object of 10 artists>)"
      ]
     },
     "execution_count": 7,
     "metadata": {},
     "output_type": "execute_result"
    },
    {
     "data": {
      "image/png": "[encoded data removed]",
      "text/plain": [
       "<Figure size 640x480 with 1 Axes>"
      ]
     },
     "metadata": {},
     "output_type": "display_data"
    }
   ],
   "source": [
    "plt.hist(precipitation_levels)"
   ]
  },
  {
   "cell_type": "code",
   "execution_count": 8,
   "metadata": {},
   "outputs": [],
   "source": [
    "df = pd.DataFrame({'date': date_range.strftime('%Y-%m-%d')})\n",
    "df['date'] = pd.to_datetime(df['date'])\n",
    "\n",
    "# fill in missing dates with 0\n",
    "full_weather_df = df.merge(weather_df, on='date', how='left')\n",
    "full_weather_df['precipitation'] = full_weather_df['precipitation'].fillna(0)\n",
    "full_weather_df['date'] = pd.to_datetime(full_weather_df['date'])"
   ]
  },
  {
   "cell_type": "code",
   "execution_count": 10,
   "metadata": {},
   "outputs": [],
   "source": [
    "# save to csv\n",
    "full_weather_df.to_csv('sentosa_weather_df.csv', index=False)"
   ]
  }
 ],
 "metadata": {
  "kernelspec": {
   "display_name": "penv",
   "language": "python",
   "name": "python3"
  },
  "language_info": {
   "codemirror_mode": {
    "name": "ipython",
    "version": 3
   },
   "file_extension": ".py",
   "mimetype": "text/x-python",
   "name": "python",
   "nbconvert_exporter": "python",
   "pygments_lexer": "ipython3",
   "version": "3.12.5"
  }
 },
 "nbformat": 4,
 "nbformat_minor": 2
}
